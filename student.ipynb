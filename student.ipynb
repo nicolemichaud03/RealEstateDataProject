{
 "cells": [
  {
   "cell_type": "markdown",
   "metadata": {},
   "source": [
    "## Final Project Submission\n",
    "\n",
    "\n",
    "##### Student name: \n",
    "Nicole Michaud\n",
    "##### Student pace: self paced / part time / full time: \n",
    "Self-Paced (Flex)\n",
    "##### Scheduled project review date/time:\n",
    "6/9/23, 10:30 a.m.\n",
    "##### Instructor name: \n",
    "Mark Barbour\n",
    "##### Blog post URL:\n",
    "\n"
   ]
  }
 ],
 "metadata": {
  "kernelspec": {
   "display_name": "Python 3",
   "language": "python",
   "name": "python3"
  },
  "language_info": {
   "codemirror_mode": {
    "name": "ipython",
    "version": 3
   },
   "file_extension": ".py",
   "mimetype": "text/x-python",
   "name": "python",
   "nbconvert_exporter": "python",
   "pygments_lexer": "ipython3",
   "version": "3.8.5"
  }
 },
 "nbformat": 4,
 "nbformat_minor": 2
}
